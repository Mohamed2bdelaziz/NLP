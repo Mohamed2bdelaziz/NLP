{
 "cells": [
  {
   "cell_type": "code",
   "execution_count": 1,
   "id": "16c50c85-0c6f-4d87-b540-803f94aeea46",
   "metadata": {},
   "outputs": [
    {
     "name": "stderr",
     "output_type": "stream",
     "text": [
      "[nltk_data] Error loading stopwords: <urlopen error [Errno 11001]\n",
      "[nltk_data]     getaddrinfo failed>\n",
      "[nltk_data] Error loading punkt: <urlopen error [Errno 11001]\n",
      "[nltk_data]     getaddrinfo failed>\n",
      "[nltk_data] Error loading wordnet: <urlopen error [Errno 11001]\n",
      "[nltk_data]     getaddrinfo failed>\n"
     ]
    }
   ],
   "source": [
    "import requests\n",
    "from bs4 import BeautifulSoup\n",
    "import re\n",
    "from urllib.request import urlopen\n",
    "import string\n",
    "import nltk\n",
    "from nltk.corpus import stopwords\n",
    "nltk.download('stopwords')\n",
    "nltk.download('punkt')\n",
    "from nltk.stem import WordNetLemmatizer\n",
    "nltk.download(\"wordnet\")\n",
    "from nltk.stem import PorterStemmer\n",
    "from nltk.stem import LancasterStemmer\n",
    "from nltk.stem import SnowballStemmer\n",
    "from matplotlib import pyplot as plt"
   ]
  },
  {
   "cell_type": "markdown",
   "id": "4b231e18-c75a-429d-8e1e-1b9a73947c05",
   "metadata": {},
   "source": [
    "<div class=\"alert alert-block alert-info\">\n",
    " <h3>Scraping text from a web page url.</h3>\n",
    "</div>"
   ]
  },
  {
   "cell_type": "code",
   "execution_count": 12,
   "id": "9130b924-b6db-42e4-89d6-e79711ddba39",
   "metadata": {},
   "outputs": [],
   "source": [
    "def get_text_webpage_urllib(url):\n",
    "    try: \n",
    "        page = urlopen(url)\n",
    "        html3 = page.read().decode(\"utf-8\")\n",
    "        # pattern = \"<body.*?\\s>(.*?)</body>\"\n",
    "        # body = re.findall(pattern, html3, re.DOTALL)\n",
    "        # Extracting headings and paragraphs\n",
    "        pattern = \"<h[1-6]|p>(.*?)</h[1-6]|p>\"\n",
    "        matches = re.findall(pattern, html3, re.DOTALL)\n",
    "        return \"\".join(matches)\n",
    "    # Catching the exception generated\t \n",
    "    except Exception as e : \n",
    "    \tprint(str(e))"
   ]
  },
  {
   "cell_type": "code",
   "execution_count": 13,
   "id": "d9d38b45-ad94-40a7-b9b7-a873caa3bc50",
   "metadata": {},
   "outputs": [],
   "source": [
    "def get_text_webpage_bs(url):\n",
    "    r = requests.get(url)\n",
    "    soup = BeautifulSoup(r.text, 'html.parser')\n",
    "    text = soup.get_text()\n",
    "    return text"
   ]
  },
  {
   "cell_type": "code",
   "execution_count": 14,
   "id": "da6639e9-6bab-4c9b-b275-076aad11a21d",
   "metadata": {},
   "outputs": [],
   "source": [
    "# How to Train Your Dragon - Wikipedia\n",
    "url1 = \"https://en.wikipedia.org/wiki/How_to_Train_Your_Dragon\"\n",
    "# Shakespeare's Plays\n",
    "url2 = \"https://www.shakespeare-online.com/plays/\""
   ]
  },
  {
   "cell_type": "code",
   "execution_count": 15,
   "id": "78793c22-5aa6-4708-9a29-58f1b1f54643",
   "metadata": {},
   "outputs": [
    {
     "data": {
      "text/plain": [
       "('\\n<style data-mw-deduplicate=\"TemplateStyles:r1066479718\">.mw-parser-output .infobox-subbox{padding:0;border:none;margin:-3px;width:auto;min-width:100%;font-size:100%;clear:none;float:none;background-color:transparent}.mw-parser-output .infobox-3cols-child{margin:auto}.mw-parser-output .infobox .navbar{font-size:100%}body.skin-minerva .mw-parser-output .infobox-header,body.skin-minerva .mw-parser-output .infobox-subheader,body.skin-minerva .mw-parser-output .infobox-above,body.skin-minerva .mw-parser-output .infobox-title,body.skin-minerva .mw-parser-output .infobox-image,body.skin-minerva .mw-parser-output .infobox-full-data,body.skin-minerva .mw-parser-output .infobox-below{text-align:center}</style><table class=\"infobox vevent\"><tbody><tr><th colspan=\"2\" class=\"infobox-above summary\" style=\"font-style: italic; background: lavender;\">How to Train Your Dragon</th></tr><tr><td colspan=\"2\" class=\"infobox-image\"><span class=\"mw-default-size\" typeof=\"mw:File/Frameless\"><a href=\"/wiki/File:',\n",
       " '\\n\\n\\n\\nHow to Train Your Dragon - Wikipedia\\n\\n\\n\\n\\n\\n\\n\\n\\n\\n\\n\\n\\n\\n\\n\\n\\n\\n\\n\\n\\n\\n\\n\\n\\n\\n\\n\\n\\n\\n\\n\\n\\n\\n\\n\\nJump to content\\n\\n\\n\\n\\n\\n\\n\\nMain menu\\n\\n\\n\\n\\n\\nMain menu\\nmove to sidebar\\nhide\\n\\n\\n\\n\\t\\tNavigation\\n\\t\\n\\n\\nMain pageContentsCurrent eventsRandom articleAbout WikipediaContact usDonate\\n\\n\\n\\n\\n\\n\\t\\tContribute\\n\\t\\n\\n\\nHelpLearn to editCommunity portalRecent changesUpload file\\n\\n\\n\\n\\n\\n\\n\\n\\n\\n\\n\\n\\n\\n\\n\\n\\n\\n\\n\\nSearch\\n\\n\\n\\n\\n\\n\\n\\n\\n\\n\\n\\nSearch\\n\\n\\n\\n\\n\\n\\n\\n\\n\\n\\n\\n\\n\\n\\n\\n\\n\\n\\n\\n\\n\\n\\n\\n\\n\\n\\n\\n\\n\\nCreate account\\n\\nLog in\\n\\n\\n\\n\\n\\n\\n\\n\\nPersonal tools\\n\\n\\n\\n\\n\\n Create account Log in\\n\\n\\n\\n\\n\\n\\t\\tPages for logged out editors learn more\\n\\n\\n\\nContributionsTalk\\n\\n\\n\\n\\n\\n\\n\\n\\n\\n\\n\\n\\n\\n\\n\\n\\n\\n\\n\\n\\n\\n\\n\\n\\n\\n\\n\\n\\nContents\\nmove to sidebar\\nhide\\n\\n\\n\\n\\n(Top)\\n\\n\\n\\n\\n\\n1Films\\n\\n\\n\\nToggle Films subsection\\n\\n\\n\\n\\n\\n1.1Original animated trilogy\\n\\n\\n\\n\\n\\n1.1.1How to Train Your Dragon (2010)\\n\\n\\n\\n\\n\\n\\n\\n1.1.2How to Train Your Dragon 2 (2014)\\n\\n\\n\\n\\n\\n\\n\\n1.1.3How to Train Your Dragon: The Hidden World (2019)\\n\\n\\n\\n\\n\\n\\n\\n\\n\\n1.2Live-action reboot\\n\\n\\n\\n\\n\\n\\n\\n\\n\\n2Television series\\n\\n\\n\\nToggle Television series subsection\\n\\n\\n\\n\\n\\n2.1DreamWorks Dragons (2012–2018)\\n\\n\\n\\n\\n\\n\\n\\n2.2DreamWorks Dragons: Resc')"
      ]
     },
     "execution_count": 15,
     "metadata": {},
     "output_type": "execute_result"
    }
   ],
   "source": [
    "get_text_webpage_urllib(url1)[:1000], get_text_webpage_bs(url1)[:1000]"
   ]
  },
  {
   "cell_type": "code",
   "execution_count": 16,
   "id": "ddece15a-2474-4c10-b335-63cc75cd87e0",
   "metadata": {},
   "outputs": [
    {
     "data": {
      "text/plain": [
       "('',\n",
       " \"\\n\\nShakespeare's Plays\\n\\n\\n\\n\\n\\n\\n\\n\\n\\n\\n\\n\\n\\n\\n\\n\\n\\n\\n\\n\\n\\n\\n\\n\\n\\n\\n\\n\\ndirectory\\n\\n\\n\\n\\n\\n\\nhome\\ncontact\\n\\n\\n\\n\\n\\n\\n\\n\\n\\n\\nwelcome\\nplays\\nsonnets\\nanalysis\\nquotations\\nsources\\nbiography\\ntheatres\\nkey dates\\nplots\\nfaq\\nbooks\\nglossary\\nscholars\\nquiz\\n\\n\\n\\n\\nsearch\\n\\n\\n\\n\\n\\n\\n\\n\\n\\n\\n\\xa0\\n\\n\\n\\n\\n\\n\\nShakespeare's Plays\\r\\nBefore the publication of the First Folio in 1623, nineteen of the thirty-seven plays in Shakespeare's canon had appeared in quarto format. With the exception of Othello (1622), all of the quartos were published prior to the date of Shakespeare's retirement from the theatre in about 1611. It is unlikely that Shakespeare was involved directly with the printing of any of his plays, although it should be noted that two of his poems, Venus and Adonis and The Rape of Lucrece were almost certainly printed under his direct supervision. \\r\\n\\r\\nHere you will find the complete text of Shakespeare's plays, based primarily on the First Folio, and a variety of helpful resources, including extensive explanatory notes, character analysis, source infor\")"
      ]
     },
     "execution_count": 16,
     "metadata": {},
     "output_type": "execute_result"
    }
   ],
   "source": [
    "get_text_webpage_urllib(url2)[:1000], get_text_webpage_bs(url2)[:1000]"
   ]
  },
  {
   "cell_type": "code",
   "execution_count": 17,
   "id": "5f958b29-33d0-43a0-9d15-3db61d4f643b",
   "metadata": {},
   "outputs": [],
   "source": [
    "web1, web2 = get_text_webpage_bs(url1), get_text_webpage_bs(url2)"
   ]
  },
  {
   "cell_type": "markdown",
   "id": "5fa77b20-f039-4086-85c1-32102c3162ba",
   "metadata": {},
   "source": [
    "<div class=\"alert alert-block alert-info\">\n",
    " <h3><u>Preprocessing:</u></h3>\n",
    "    <ul>\n",
    "        <li>Cleaning.</li>        \n",
    "        <li>Remove stopping words.</li>\n",
    "        <li>Normalization.</li>\n",
    "        <li>Tokenization.</li>\n",
    "        <li>Lemmatization.</li>\n",
    "        <li>Stemming.</li>\n",
    "    </ul>\n",
    "</div>"
   ]
  },
  {
   "cell_type": "code",
   "execution_count": 18,
   "id": "be5ae7e4-6650-493d-a14c-4d46196a851d",
   "metadata": {},
   "outputs": [],
   "source": [
    "# Punctuations to be cleaned from our text\n",
    "punctuations = '''`÷×؛<>_()*&^%][ـ،/:\"؟.,'{}~¦+|!”…“–ـ''' + string.punctuation\n",
    "\n",
    "# English stop words with nltk\n",
    "stop_words = stopwords.words('english')\n",
    "\n",
    "# Lemmatizer\n",
    "lemmatizer = WordNetLemmatizer()\n",
    "\n",
    "# Stemmers\n",
    "porter_stemmer = PorterStemmer()\n",
    "lancaster_stemmer = LancasterStemmer()\n",
    "snowball_stemmer = SnowballStemmer(language='english')\n"
   ]
  },
  {
   "cell_type": "code",
   "execution_count": 86,
   "id": "a8a7d97f-37bc-4fab-b8e7-4b330ac803b2",
   "metadata": {},
   "outputs": [],
   "source": [
    "def preprocess(\n",
    "    text : str, \n",
    "    stemmer_name : str = None\n",
    "    ) -> list:\n",
    "    #remove punctuations / cleaning\n",
    "    translator = str.maketrans('', '', punctuations)\n",
    "    text = text.translate(translator)\n",
    "\n",
    "    # # remove numbers\n",
    "    # pattern = r\"\\d\"\n",
    "    # text = re.sub(pattern,'', text)\n",
    "    # tokenization\n",
    "    # words = nltk.word_tokenize(\" \".join(text))\n",
    "    # lemmatization\n",
    "    lemmas = [lemmatizer.lemmatize(word) for word in text]\n",
    "\n",
    "        #remove English stopping words & Normalization\n",
    "    text = ' '.join(word.lower() for word in lemmas if word not in stop_words)\n",
    "    # #stemming\n",
    "    # match stemmer_name:\n",
    "    #     case \"porter\":\n",
    "    #         stemmer = porter_stemmer\n",
    "    #     case \"lancaster\":\n",
    "    #         stemmer = lancaster_stemmer\n",
    "    #     case \"snowball\":\n",
    "    #         stemmer = snowball_stemmer\n",
    "    #     case default:\n",
    "    #         stemmer = porter_stemmer\n",
    "    # stems = [stemmer.stem(lemma) for lemma in lemmas]\n",
    "    return text"
   ]
  },
  {
   "cell_type": "code",
   "execution_count": 87,
   "id": "519d879b-bdf5-4b65-a4dd-ca0208952fd2",
   "metadata": {},
   "outputs": [
    {
     "data": {
      "text/plain": [
       "('        t   r   n       y   u   r       d   r   g   n       2   0   1   0   \\n   \\n   \\n   \\n   \\n   \\n   \\n   \\n   1   1   2   h   w           t   r   n       y   u   r       d   r   g   n       2       2   0   1   4   \\n   \\n   \\n   \\n   \\n   \\n   \\n   \\n   1   1   3   h   w           t   r   n       y   u   r       d   r   g   n       t   h   e       h   e   n       w   r   l       2   0   1   9   \\n   \\n   \\n   \\n   \\n   \\n   \\n   \\n   \\n   \\n   1   2   l   v   e   c   n       r   e   b   \\n   \\n   \\n   \\n   \\n   \\n   \\n   \\n   \\n   \\n   2   t   e   l   e   v   n       e   r   e   \\n   \\n   \\n   \\n   t   g   g   l   e       t   e   l   e   v   n       e   r   e       u   b   e   c   n   \\n   \\n   \\n   \\n   \\n   \\n   2   1   d   r   e   w   r   k       d   r   g   n       2   0   1   2   2   0   1   8   \\n   \\n   \\n   \\n   \\n   \\n   \\n   \\n   2   2   d   r   e   w   r   k       d   r   g   n       r   e   c   u   e       r   e   r       2   0   1   9   2   0   2   2   \\n   \\n   \\n   \\n   \\n   \\n   \\n   \\n   2   3   d   r   e   w   r   k       ',\n",
       " 'r   e   c       u   p   e   r   v   n       \\r   \\n   \\r   \\n   h   e   r   e       u       w   l   l       f   n       h   e       c   p   l   e   e       e   x       f       s   h   k   e   p   e   r   e       p   l       b   e       p   r   r   l       n       h   e       f   r       f   l       n           v   r   e       f       h   e   l   p   f   u   l       r   e   u   r   c   e       n   c   l   u   n   g       e   x   e   n   v   e       e   x   p   l   n   r       n   e       c   h   r   c   e   r       n   l       u   r   c   e       n   f   r   n       n       r   c   l   e       n       b   k       e   x   c   e   r   p       n           w   e       r   n   g   e       f       p   c       u   n   q   u   e           e   c   h       r       \\r   \\n   t   r   g   e   e   \\n   \\xa0   a   n   n       n       c   l   e   p   r       1   6   0   7   1   6   0   8   \\n   t   h   e       r       f       m   r   k       a   n   n       r   n       l   r       l   e   e   r       n       r   ')"
      ]
     },
     "execution_count": 87,
     "metadata": {},
     "output_type": "execute_result"
    }
   ],
   "source": [
    "processed_web1, processed_web2 = preprocess(web1), preprocess(web2)\n",
    "\" \".join(processed_web1)[2000:3000], \" \".join(processed_web2)[2000:3000]"
   ]
  },
  {
   "cell_type": "markdown",
   "id": "da06a7af-4ea4-4a6f-9c7c-0476acb413c7",
   "metadata": {},
   "source": [
    "<div class=\"alert alert-block alert-info\">\n",
    " <h3>Getting unique words.</h3>\n",
    "</div>"
   ]
  },
  {
   "cell_type": "code",
   "execution_count": 70,
   "id": "c73dfd78-272e-4c3f-a75e-620878dabfe9",
   "metadata": {},
   "outputs": [],
   "source": [
    "def get_unique_words(\n",
    "    words:list\n",
    "    ) -> list:\n",
    "    return [*set(words)]"
   ]
  },
  {
   "cell_type": "code",
   "execution_count": 71,
   "id": "74448e4f-3f02-4019-ad34-4eb610a7ce5d",
   "metadata": {},
   "outputs": [],
   "source": [
    "web1_unique_w, web2_unique_w = get_unique_words(processed_web1), get_unique_words(processed_web2)"
   ]
  },
  {
   "cell_type": "code",
   "execution_count": 72,
   "id": "e990b17d-cf43-420d-ba0e-8342af5e3465",
   "metadata": {},
   "outputs": [
    {
     "name": "stdout",
     "output_type": "stream",
     "text": [
      "Website #1 has number of 6380 words, while it's unique words are 1830 words\n",
      "Website #2 has number of 1629 words, while it's unique words are 782 words\n"
     ]
    }
   ],
   "source": [
    "print(f\"Website #1 has number of {len(processed_web1)} words, while it's unique words are {len(web1_unique_w)} words\")\n",
    "print(f\"Website #2 has number of {len(processed_web2)} words, while it's unique words are {len(web2_unique_w)} words\")"
   ]
  },
  {
   "cell_type": "code",
   "execution_count": 73,
   "id": "2ae8f038-3901-46c5-8fe3-097de37f976d",
   "metadata": {},
   "outputs": [],
   "source": [
    "pattern = r\"\\w{3,}\\s\"\n",
    "# [re.findall(pattern, \" \".join(web2_unique_w))]\n",
    "# [word  for word in web2_unique_w if len(word)>3]"
   ]
  },
  {
   "cell_type": "markdown",
   "id": "4d8279e6-f478-4c02-aed2-29d975c3db42",
   "metadata": {},
   "source": [
    "<div class=\"alert alert-block alert-info\">\n",
    " <h3>Comparing different stemmers performance.</h3>\n",
    "</div>"
   ]
  },
  {
   "cell_type": "code",
   "execution_count": 74,
   "id": "a336a7de-6a24-4ce1-8c9c-ba2305b5d84d",
   "metadata": {},
   "outputs": [],
   "source": [
    "stemmers = [\"porter\", \"lancaster\", \"snowball\"]\n",
    "processed_text = list()\n",
    "for stemmer in stemmers:\n",
    "    processed_text.append(preprocess(web1, stemmer))\n",
    "\n",
    "processed_text_lens = list(map(len, processed_text))\n",
    "unique_words = list(map(get_unique_words, processed_text))\n",
    "unique_w_lens = list(map(len, unique_words))"
   ]
  },
  {
   "cell_type": "code",
   "execution_count": 75,
   "id": "03760169-47d3-4440-a257-3c076af39a16",
   "metadata": {},
   "outputs": [
    {
     "data": {
      "text/plain": [
       "([6380, 6380, 6380], [1830, 1830, 1830])"
      ]
     },
     "execution_count": 75,
     "metadata": {},
     "output_type": "execute_result"
    }
   ],
   "source": [
    "processed_text_lens, unique_w_lens"
   ]
  },
  {
   "cell_type": "code",
   "execution_count": 76,
   "id": "08dfbf01-53ec-4476-a2d6-e05d5b8be727",
   "metadata": {},
   "outputs": [
    {
     "data": {
      "image/png": "[encoded data removed]",
      "text/plain": [
       "<Figure size 640x480 with 1 Axes>"
      ]
     },
     "metadata": {},
     "output_type": "display_data"
    }
   ],
   "source": [
    "fig, ax = plt.subplots()\n",
    "bars = ax.bar(stemmers, processed_text_lens, color ='maroon', width = 0.6, alpha=0.7, label = \"Processed Text\")\n",
    "ax.bar_label(bars)\n",
    "bars = ax.bar(stemmers, unique_w_lens, color ='orange', width = 0.6, alpha=0.7, label = \"unique words\")\n",
    "ax.bar_label(bars)\n",
    "\n",
    "plt.xlabel(\"Stemmers\")\n",
    "plt.ylabel(\"# of words\")\n",
    "plt.title(\"Different Stemmers Performance on web 1\")\n",
    "plt.legend(loc='lower right')\n",
    "plt.show()\n"
   ]
  },
  {
   "cell_type": "code",
   "execution_count": 77,
   "id": "895eca66-fd0c-4852-b784-6942a8e85dd7",
   "metadata": {},
   "outputs": [],
   "source": [
    "processed_text = list()\n",
    "for stemmer in stemmers:\n",
    "    processed_text.append(preprocess(web2, stemmer))\n",
    "\n",
    "processed_text_lens = list(map(len, processed_text))\n",
    "unique_words = list(map(get_unique_words, processed_text))\n",
    "unique_w_lens = list(map(len, unique_words))"
   ]
  },
  {
   "cell_type": "code",
   "execution_count": 78,
   "id": "626ea84f-8907-49df-af54-217e7f132df6",
   "metadata": {},
   "outputs": [
    {
     "data": {
      "image/png": "[encoded data removed]",
      "text/plain": [
       "<Figure size 640x480 with 1 Axes>"
      ]
     },
     "metadata": {},
     "output_type": "display_data"
    }
   ],
   "source": [
    "fig, ax = plt.subplots()\n",
    "bars = ax.bar(stemmers, processed_text_lens, color ='maroon', width = 0.6, alpha=0.7, label = \"Processed Text\")\n",
    "ax.bar_label(bars)\n",
    "bars = ax.bar(stemmers, unique_w_lens, color ='orange', width = 0.6, alpha=0.7, label = \"unique words\")\n",
    "ax.bar_label(bars)\n",
    "\n",
    "plt.xlabel(\"Stemmers\")\n",
    "plt.ylabel(\"# of words\")\n",
    "plt.title(\"Different Stemmers Performance on web 2\")\n",
    "plt.legend(loc='lower right')\n",
    "plt.show()"
   ]
  },
  {
   "cell_type": "code",
   "execution_count": 80,
   "id": "31e5da47-aa66-4bef-80c8-311a4c681e07",
   "metadata": {},
   "outputs": [
    {
     "data": {
      "text/plain": [
       "['vi',\n",
       " 'is',\n",
       " '1',\n",
       " 'it',\n",
       " '2',\n",
       " '13',\n",
       " 'we',\n",
       " 'q',\n",
       " 'iv',\n",
       " 'dr',\n",
       " 'no',\n",
       " 're',\n",
       " 'in',\n",
       " 'so',\n",
       " 'v',\n",
       " '5',\n",
       " '12',\n",
       " 'ii',\n",
       " 'i',\n",
       " 'he',\n",
       " '10',\n",
       " '11',\n",
       " 'mr',\n",
       " 'if',\n",
       " 'a',\n",
       " 'z']"
      ]
     },
     "execution_count": 80,
     "metadata": {},
     "output_type": "execute_result"
    }
   ],
   "source": [
    "# web1_unique_w\n",
    "pattern = r\"\\w{,2}\\s\"\n",
    "# [re.findall(pattern, \" \".join(web2_unique_w))]\n",
    "[word  for word in web2_unique_w if len(word)<3]"
   ]
  },
  {
   "cell_type": "code",
   "execution_count": null,
   "id": "c3cd6c17-252a-4901-9aec-dce8a492f473",
   "metadata": {},
   "outputs": [],
   "source": []
  }
 ],
 "metadata": {
  "kernelspec": {
   "display_name": "Python 3 (ipykernel)",
   "language": "python",
   "name": "python3"
  },
  "language_info": {
   "codemirror_mode": {
    "name": "ipython",
    "version": 3
   },
   "file_extension": ".py",
   "mimetype": "text/x-python",
   "name": "python",
   "nbconvert_exporter": "python",
   "pygments_lexer": "ipython3",
   "version": "3.10.11"
  }
 },
 "nbformat": 4,
 "nbformat_minor": 5
}
