{
  "nbformat": 4,
  "nbformat_minor": 0,
  "metadata": {
    "colab": {
      "provenance": [],
      "gpuType": "T4",
      "authorship_tag": "ABX9TyMcWuAB25l2iEsX0sDCTj4A",
      "include_colab_link": true
    },
    "kernelspec": {
      "name": "python3",
      "display_name": "Python 3"
    },
    "language_info": {
      "name": "python"
    },
    "accelerator": "GPU"
  },
  "cells": [
    {
      "cell_type": "markdown",
      "metadata": {
        "id": "view-in-github",
        "colab_type": "text"
      },
      "source": [
        "<a href=\"https://colab.research.google.com/github/Mohamed2bdelaziz/NLP/blob/main/CNN_Text_Classification.ipynb\" target=\"_parent\"><img src=\"https://colab.research.google.com/assets/colab-badge.svg\" alt=\"Open In Colab\"/></a>"
      ]
    },
    {
      "cell_type": "markdown",
      "source": [
        "\n",
        "\n",
        "> [<= Source =>](https://keras.io/examples/nlp/pretrained_word_embeddings/#load-pretrained-word-embeddings)\n"
      ],
      "metadata": {
        "id": "gXrfjyxg87ej"
      }
    },
    {
      "cell_type": "code",
      "execution_count": 30,
      "metadata": {
        "colab": {
          "base_uri": "https://localhost:8080/"
        },
        "id": "SWK_sq_MS-6W",
        "outputId": "dace580d-262b-4f79-bfa8-28adb6ab0723"
      },
      "outputs": [
        {
          "output_type": "stream",
          "name": "stderr",
          "text": [
            "[nltk_data] Downloading package wordnet to /root/nltk_data...\n",
            "[nltk_data]   Package wordnet is already up-to-date!\n",
            "[nltk_data] Downloading package stopwords to /root/nltk_data...\n",
            "[nltk_data]   Package stopwords is already up-to-date!\n"
          ]
        }
      ],
      "source": [
        "import nltk\n",
        "nltk.download('wordnet')\n",
        "nltk.download([\"stopwords\"])\n",
        "from nltk.corpus import stopwords\n",
        "import re\n",
        "from nltk import WordNetLemmatizer\n",
        "lemma =WordNetLemmatizer()\n",
        "stopwords = set(stopwords.words(\"english\"))\n",
        "\n",
        "\n",
        "import matplotlib.pyplot as plt\n",
        "import seaborn as sns\n",
        "\n",
        "import numpy as np\n",
        "import pandas as pd\n",
        "from tqdm import tqdm\n",
        "import keras\n",
        "from sklearn.model_selection import train_test_split\n",
        "import tensorflow\n",
        "from keras.layers import Embedding\n",
        "from tensorflow.keras.metrics import F1Score\n",
        "from sklearn.metrics import confusion_matrix\n",
        "\n",
        "from keras.layers import Dense, Flatten, Conv1D, MaxPooling1D, Dropout\n",
        "from keras.callbacks import EarlyStopping\n"
      ]
    },
    {
      "cell_type": "code",
      "source": [
        "# download the dataset, then unzipping it\n",
        "!kaggle datasets download -d kazanova/sentiment140\n",
        "!unzip /content/sentiment140.zip"
      ],
      "metadata": {
        "colab": {
          "base_uri": "https://localhost:8080/"
        },
        "id": "6HAH3fNpW_Yi",
        "outputId": "e2d65cfc-7a7c-4b3e-e386-639336544fe4"
      },
      "execution_count": 5,
      "outputs": [
        {
          "output_type": "stream",
          "name": "stdout",
          "text": [
            "Warning: Your Kaggle API key is readable by other users on this system! To fix this, you can run 'chmod 600 /root/.kaggle/kaggle.json'\n",
            "Downloading sentiment140.zip to /content\n",
            " 89% 72.0M/80.9M [00:00<00:00, 185MB/s]\n",
            "100% 80.9M/80.9M [00:00<00:00, 183MB/s]\n",
            "Archive:  /content/sentiment140.zip\n",
            "  inflating: training.1600000.processed.noemoticon.csv  \n"
          ]
        }
      ]
    },
    {
      "cell_type": "code",
      "source": [
        "# download the pretrained glove models embeddings\n",
        "!wget https://downloads.cs.stanford.edu/nlp/data/glove.6B.zip\n",
        "\n",
        "!unzip -q glove.6B.zip"
      ],
      "metadata": {
        "colab": {
          "base_uri": "https://localhost:8080/"
        },
        "id": "LlhEqsArY21c",
        "outputId": "5103841c-2bcf-4f4e-b802-1c896b4a82e4"
      },
      "execution_count": 3,
      "outputs": [
        {
          "output_type": "stream",
          "name": "stdout",
          "text": [
            "--2024-04-29 00:22:47--  https://downloads.cs.stanford.edu/nlp/data/glove.6B.zip\n",
            "Resolving downloads.cs.stanford.edu (downloads.cs.stanford.edu)... 171.64.64.22\n",
            "Connecting to downloads.cs.stanford.edu (downloads.cs.stanford.edu)|171.64.64.22|:443... connected.\n",
            "HTTP request sent, awaiting response... 200 OK\n",
            "Length: 862182613 (822M) [application/zip]\n",
            "Saving to: ‘glove.6B.zip’\n",
            "\n",
            "glove.6B.zip        100%[===================>] 822.24M  5.02MB/s    in 2m 38s  \n",
            "\n",
            "2024-04-29 00:25:26 (5.19 MB/s) - ‘glove.6B.zip’ saved [862182613/862182613]\n",
            "\n"
          ]
        }
      ]
    },
    {
      "cell_type": "code",
      "source": [
        "import pandas as pd\n",
        "\n",
        "cols = [\"target\",\"ids\",\"date\",\"flag\",\"user\",\"text\"]\n",
        "data_df = pd.read_csv(\n",
        "    \"/content/training.1600000.processed.noemoticon.csv\",\n",
        "    names= cols,\n",
        "    encoding='latin-1')\n",
        "\n",
        "data_df.shape"
      ],
      "metadata": {
        "id": "kVsoywR1TDqC",
        "colab": {
          "base_uri": "https://localhost:8080/"
        },
        "outputId": "35d0d182-e529-40c8-bbff-0fa8948998a8"
      },
      "execution_count": 6,
      "outputs": [
        {
          "output_type": "execute_result",
          "data": {
            "text/plain": [
              "(1600000, 6)"
            ]
          },
          "metadata": {},
          "execution_count": 6
        }
      ]
    },
    {
      "cell_type": "code",
      "source": [
        "# replacing target 4 with 1 in data\n",
        "data_df.target = data_df.target.replace({4:1})\n"
      ],
      "metadata": {
        "id": "TuY5zVvFe-eZ"
      },
      "execution_count": 7,
      "outputs": []
    },
    {
      "cell_type": "code",
      "source": [
        "data_df.target.unique()"
      ],
      "metadata": {
        "colab": {
          "base_uri": "https://localhost:8080/"
        },
        "id": "CfFs1qdpfGmP",
        "outputId": "abbd72c7-247f-4cb4-af6d-bd647b8e9d85"
      },
      "execution_count": 8,
      "outputs": [
        {
          "output_type": "execute_result",
          "data": {
            "text/plain": [
              "array([0, 1])"
            ]
          },
          "metadata": {},
          "execution_count": 8
        }
      ]
    },
    {
      "cell_type": "code",
      "source": [
        "X = data_df['text'].values\n",
        "Y = data_df['target'].values\n",
        "\n",
        "X_train, X_test, y_train, y_test = train_test_split(X, Y, test_size=0.2, shuffle=True, random_state=42)\n"
      ],
      "metadata": {
        "id": "tIz79C7rfn3b"
      },
      "execution_count": 9,
      "outputs": []
    },
    {
      "cell_type": "code",
      "source": [
        "X_train.shape, y_test.shape"
      ],
      "metadata": {
        "colab": {
          "base_uri": "https://localhost:8080/"
        },
        "id": "VMULnxDegHzs",
        "outputId": "48eb56d9-a327-45a2-ae32-b313992efff3"
      },
      "execution_count": 10,
      "outputs": [
        {
          "output_type": "execute_result",
          "data": {
            "text/plain": [
              "((1280000,), (320000,))"
            ]
          },
          "metadata": {},
          "execution_count": 10
        }
      ]
    },
    {
      "cell_type": "code",
      "source": [
        "vectorizer = keras.layers.TextVectorization(max_tokens=20000, output_sequence_length=200)\n",
        "text_ds = tensorflow.data.Dataset.from_tensor_slices(X_train).batch(64)\n",
        "vectorizer.adapt(text_ds)"
      ],
      "metadata": {
        "id": "cOAzkHK5gZIl"
      },
      "execution_count": 11,
      "outputs": []
    },
    {
      "cell_type": "code",
      "source": [
        "next(iter(text_ds))"
      ],
      "metadata": {
        "colab": {
          "base_uri": "https://localhost:8080/"
        },
        "id": "7binj42IhKto",
        "outputId": "969efeab-bfcd-4b78-f3fe-b9b9431bdf95"
      },
      "execution_count": 12,
      "outputs": [
        {
          "output_type": "execute_result",
          "data": {
            "text/plain": [
              "<tf.Tensor: shape=(64,), dtype=string, numpy=\n",
              "array([b\"@jbtaylor WIth ya. &quot;I'd like a Palm Pre, Touchstone charger. ReadyNow? Yes, that sounds good. But is my beer ready now?'  #prelaunch\",\n",
              "       b'felt the earthquake this afternoon, it seems to be a , but  at the epicenter ',\n",
              "       b'Ruffles on shirts are like so in, me Likey ',\n",
              "       b'Pretty bad night into a crappy morning....FML! If only buttface didnt say he could go into work today ',\n",
              "       b'@dcbriccetti yeah, what a clear view! ',\n",
              "       b'One more time Follow my fam #FF @georgeann13 @nakithebeatman @flimackgod @chaz81 @djt_elle @jaejaedynomite welcome to Friday Follow me 2 ',\n",
              "       b'@MsJBell U rock!!! Thanks.  Will be added to next RobCrotch (tm) video. ',\n",
              "       b\"@ssnider yes please! met your fiancee at ian's party the other day, btw... she's very sweet  congrats to you guys!\",\n",
              "       b\"My gawd! They've finished the whole bowl before I even posted my previous tweet! Making 2nd bowl \",\n",
              "       b\"@marty_k awesome game. but very short. you'll finish it and be craving for more God Of War action \",\n",
              "       b'Happy Mothers day to all the grown n happy &amp; the lil prego smuts lol Just Playing everyone is loved.. happy Mothers Day &amp; God Bless ',\n",
              "       b'Back from eating dinner. ',\n",
              "       b\"@TheKellanLutz could not follow that chat room at all!! could you please follow me on here? I don't have many  lol\",\n",
              "       b'@BrokenReject heck, why not. by the way not just the heights I want to trade ',\n",
              "       b'Tired of saying goodbye....Chicago stole my other half ',\n",
              "       b'$12 Mai Tai inbound. Suddenly having trouble relaxing again ',\n",
              "       b\"@IsabellaSalas lol i'm still not even closeee to figuring this out  ahhh i want help! lol\",\n",
              "       b'@sallyhems @sarahlar @Bizarre57 @milliontwits  Thank you for supporting #maternalhealth ',\n",
              "       b'@samskelton http://twitpic.com/7hlhr - Hell yeah starbucks rules lol i should know....i work there ',\n",
              "       b'Just had to pay the doctor $50 ',\n",
              "       b\"@j_ortaliza hahahah ! mah freakin bad! it was finals week  but yes, fo'sho. I'll visit you like foreal. So any new prospect?\",\n",
              "       b'@blndebombshell I make greeting cards that say EFFING on them!  http://effing.cc',\n",
              "       b\"@siampearl maybe because in five months nobody died from it and it's treatable... Unlike the flu I guess. Doesn't mean we don't care \",\n",
              "       b'@kellyzimmer - My daughter and I are hooked on Sims.  We bought 3 the day it came out.  ',\n",
              "       b'i love you boyfriend ', b'all alone on a friday night ',\n",
              "       b'I have a temp of 102F ',\n",
              "       b'@charlii1 i- i- i dunno, i- i- i dunno   god i love shaun!',\n",
              "       b' dont have time for SHIT anymore..', b'$SPX 920 is the floor ',\n",
              "       b\"@ahrenba thats what iv'e been doing too!!  not fun!!!\",\n",
              "       b'@Mongoos150 Can you move to LA already please? ',\n",
              "       b\"Tired I'm going back to sleep  Iv got work tonite \",\n",
              "       b'@Rob_Hoffman how come u didnt make an apperance yesterday in the webcast  tisk tisk!',\n",
              "       b'@saffrontaylor Just remember you are not supposed to wear a hotter dress than the bride ',\n",
              "       b\"@KitsuneAndy Congrats Andy  Bet you're having a great day now that worry has gone!\",\n",
              "       b'Love the Song @TheRealJordin Sang at American Idol... ',\n",
              "       b'Made 1st break was up but fell a bit near the end if the 2nd level.  Not too bad though. 3550 in chips',\n",
              "       b\"@thejose actually I'm just hella bored and its a Friday so I'm totally off work mode   Let me know when you check your schedule.  \",\n",
              "       b'Ethan still not going home. ',\n",
              "       b'I have to piss but i dont want to get up ',\n",
              "       b'@YoungCartoon Yea I bet....I told u I want my shirt  But holla at Empress.... Empressccp@gmail.com',\n",
              "       b'Watching camp rock, on gotta find you, when joe sang this last night, he sounded so beautiful ',\n",
              "       b'doesnt have any friends on twitter ',\n",
              "       b'back to work today - bad times ',\n",
              "       b\"@BenjaminTseng it's probably gonna take 2 weeks  i do filter on a daily basis so this is lots of good stuff. at 455 atm.\",\n",
              "       b'@dnbishop your tweet was just included in The Longest Poem in the World www.longestpoemintheworld.com/tweet/14244/ ',\n",
              "       b'@ishanney sry   yep but only for school friends.',\n",
              "       b'@JonathanRKnight  Jonathan, donde estas??  Your bro has turned into a Twitter junkie...me likey! ',\n",
              "       b\"I need a scooby snack   I'm sure the new betablockers I'm on are giving me the munchies.\",\n",
              "       b'Back to work tomorrow ',\n",
              "       b\"@amandasan OH NO! Dead computer?! That's no good... poor macbook.  I'm sad for you!\",\n",
              "       b'whats everyone doing over the holidays?? when its not raining of course ',\n",
              "       b\"Wicked long weekend in Miami. Haven't slept. Heading to airport. Back to life. Back to reality. Thanks for all the bday love.  \",\n",
              "       b'I saw @Bill_Hader at the Curragh this weekend! I should have said hello ',\n",
              "       b\"I really don't want to work today!  \",\n",
              "       b'@Shazalar awwwwwwwww i love you  how awesome were we as clowns !!!!',\n",
              "       b\"@danieljose WTF?? Are you being sarcastic? Lol. 771? That's pretty amazing... Ill catch up to you tonight. 400 more texts here I come. \",\n",
              "       b'good morning luvlies! ',\n",
              "       b\"i spent a very non-productive day today!! can't even believe myself! ha!!! jus bummed at home ALL DAY. hope i dun get used to this! \",\n",
              "       b'twitter is slow today after that maintenance ',\n",
              "       b\"TGIF!!!!  Very excited to see everyone at @Aurora_Boo 's grad party Saturday! \",\n",
              "       b\"Just finished homework. Now moving onto assignments  Can someone please tell me what a 'twibe' is?\",\n",
              "       b\"I'm feeling lonely today \"], dtype=object)>"
            ]
          },
          "metadata": {},
          "execution_count": 12
        }
      ]
    },
    {
      "cell_type": "code",
      "source": [
        "len(vectorizer.get_vocabulary()), *vectorizer.get_vocabulary()[500:515]"
      ],
      "metadata": {
        "colab": {
          "base_uri": "https://localhost:8080/"
        },
        "id": "ykqrGLz4itaB",
        "outputId": "7f6b2895-a92d-4aff-ad09-c249ab22a927"
      },
      "execution_count": 13,
      "outputs": [
        {
          "output_type": "execute_result",
          "data": {
            "text/plain": [
              "(20000,\n",
              " '6',\n",
              " 'office',\n",
              " 'boo',\n",
              " 'dog',\n",
              " 'course',\n",
              " 'btw',\n",
              " 'seeing',\n",
              " 'started',\n",
              " 'heart',\n",
              " 'kind',\n",
              " 'internet',\n",
              " 'hehe',\n",
              " 'using',\n",
              " 'part',\n",
              " 'mind')"
            ]
          },
          "metadata": {},
          "execution_count": 13
        }
      ]
    },
    {
      "cell_type": "code",
      "source": [
        "test_sent = \"I love the natural language processing course\".lower()\n",
        "output = vectorizer([[test_sent]])\n",
        "output.numpy()"
      ],
      "metadata": {
        "colab": {
          "base_uri": "https://localhost:8080/"
        },
        "id": "wirlNsVIjbaK",
        "outputId": "fb2b63c9-04a4-4e53-ab70-974435e7fbc2"
      },
      "execution_count": 14,
      "outputs": [
        {
          "output_type": "execute_result",
          "data": {
            "text/plain": [
              "array([[   2,   46,    4, 3283, 2538, 7996,  504,    0,    0,    0,    0,\n",
              "           0,    0,    0,    0,    0,    0,    0,    0,    0,    0,    0,\n",
              "           0,    0,    0,    0,    0,    0,    0,    0,    0,    0,    0,\n",
              "           0,    0,    0,    0,    0,    0,    0,    0,    0,    0,    0,\n",
              "           0,    0,    0,    0,    0,    0,    0,    0,    0,    0,    0,\n",
              "           0,    0,    0,    0,    0,    0,    0,    0,    0,    0,    0,\n",
              "           0,    0,    0,    0,    0,    0,    0,    0,    0,    0,    0,\n",
              "           0,    0,    0,    0,    0,    0,    0,    0,    0,    0,    0,\n",
              "           0,    0,    0,    0,    0,    0,    0,    0,    0,    0,    0,\n",
              "           0,    0,    0,    0,    0,    0,    0,    0,    0,    0,    0,\n",
              "           0,    0,    0,    0,    0,    0,    0,    0,    0,    0,    0,\n",
              "           0,    0,    0,    0,    0,    0,    0,    0,    0,    0,    0,\n",
              "           0,    0,    0,    0,    0,    0,    0,    0,    0,    0,    0,\n",
              "           0,    0,    0,    0,    0,    0,    0,    0,    0,    0,    0,\n",
              "           0,    0,    0,    0,    0,    0,    0,    0,    0,    0,    0,\n",
              "           0,    0,    0,    0,    0,    0,    0,    0,    0,    0,    0,\n",
              "           0,    0,    0,    0,    0,    0,    0,    0,    0,    0,    0,\n",
              "           0,    0,    0,    0,    0,    0,    0,    0,    0,    0,    0,\n",
              "           0,    0]])"
            ]
          },
          "metadata": {},
          "execution_count": 14
        }
      ]
    },
    {
      "cell_type": "code",
      "source": [
        "voc = vectorizer.get_vocabulary()\n",
        "word_index = dict(zip(voc, range(len(voc))))\n",
        "\n",
        "[word_index[w] for w in test_sent.split()]"
      ],
      "metadata": {
        "colab": {
          "base_uri": "https://localhost:8080/"
        },
        "id": "6i9Z2v5YjpqM",
        "outputId": "8e0f5286-15ad-4b0e-a6c1-9257a472e49c"
      },
      "execution_count": 15,
      "outputs": [
        {
          "output_type": "execute_result",
          "data": {
            "text/plain": [
              "[2, 46, 4, 3283, 2538, 7996, 504]"
            ]
          },
          "metadata": {},
          "execution_count": 15
        }
      ]
    },
    {
      "cell_type": "code",
      "source": [
        "X_train = vectorizer(np.array([[s] for s in X_train])).numpy().astype(np.float64)\n",
        "X_test = vectorizer(np.array([[s] for s in X_test])).numpy().astype(np.float64)\n",
        "\n",
        "y_train = np.array(y_train).astype(np.float32)\n",
        "y_test = np.array(y_test).astype(np.float32)\n"
      ],
      "metadata": {
        "id": "nUJh4BnLmWDB"
      },
      "execution_count": 16,
      "outputs": []
    },
    {
      "cell_type": "code",
      "source": [
        "X_train.shape, X_train.dtype, y_test.shape, y_test.dtype,"
      ],
      "metadata": {
        "colab": {
          "base_uri": "https://localhost:8080/"
        },
        "id": "gPyz56GV0m3m",
        "outputId": "9bdb186b-963d-4fb0-b801-386c2493ffa7"
      },
      "execution_count": 17,
      "outputs": [
        {
          "output_type": "execute_result",
          "data": {
            "text/plain": [
              "((1280000, 200), dtype('float64'), (320000,), dtype('float32'))"
            ]
          },
          "metadata": {},
          "execution_count": 17
        }
      ]
    },
    {
      "cell_type": "code",
      "source": [
        "labels = ['Negative', 'Positive']\n",
        "colors = sns.color_palette(\"pastel\")\n",
        "\n",
        "plt.figure(figsize=(10,10))\n",
        "plt.subplot(1, 2, 1)\n",
        "plt.pie(\n",
        "    pd.DataFrame(y_train).value_counts(),\n",
        "    labels=labels,\n",
        "    colors=colors,\n",
        "    autopct=lambda x: '{:.1f}%\\n{:.0f}'.format(x, len(y_train)*x/100)\n",
        ")\n",
        "plt.title('Training data distripution')\n",
        "\n",
        "plt.subplot(1, 2, 2)\n",
        "plt.pie(\n",
        "    pd.DataFrame(y_test).value_counts(),\n",
        "    labels=labels,\n",
        "    colors=colors,\n",
        "    autopct=lambda x: '{:.1f}%\\n{:.0f}'.format(x, len(y_test)*x/100)\n",
        ")\n",
        "plt.title('Testing data distripution')\n",
        "\n",
        "plt.tight_layout()\n",
        "plt.show()\n",
        "\n",
        "# print(':\\n')\n",
        "# plt.pie(y_train)\n",
        "# # pd.DataFrame(y_train).plot(kind='pie', subplots=True)\n",
        "# print('Testing data distripution:\\n',pd.DataFrame(y_test).value_counts())"
      ],
      "metadata": {
        "colab": {
          "base_uri": "https://localhost:8080/",
          "height": 536
        },
        "id": "RrJRLwPyAxJd",
        "outputId": "bd9c5f9d-72ef-4c50-cb53-f46d2d9968d9"
      },
      "execution_count": 18,
      "outputs": [
        {
          "output_type": "display_data",
          "data": {
            "text/plain": [
              "<Figure size 1000x1000 with 2 Axes>"
            ],
            "image/png": "[encoded data removed]"
          },
          "metadata": {}
        }
      ]
    },
    {
      "cell_type": "code",
      "source": [
        "# !gdown 0B7XkCwpI5KDYNlNUTTlSS21pQmM\n"
      ],
      "metadata": {
        "id": "UVfAjgoMTbgU"
      },
      "execution_count": 19,
      "outputs": []
    },
    {
      "cell_type": "code",
      "source": [
        "path_to_glove_file = \"glove.6B.300d.txt\"\n",
        "\n",
        "embeddings_index = {}\n",
        "with open(path_to_glove_file) as f:\n",
        "    for line in f:\n",
        "        word, coefs = line.split(maxsplit=1)\n",
        "        coefs = np.fromstring(coefs, \"f\", sep=\" \")\n",
        "        embeddings_index[word] = coefs\n",
        "\n",
        "print(\"Found %s word vectors.\" % len(embeddings_index))\n"
      ],
      "metadata": {
        "colab": {
          "base_uri": "https://localhost:8080/"
        },
        "id": "P9RV5sZ6ZDSm",
        "outputId": "e8745ef9-3b27-4019-ce0d-13bb7d71eab8"
      },
      "execution_count": 20,
      "outputs": [
        {
          "output_type": "stream",
          "name": "stdout",
          "text": [
            "Found 400000 word vectors.\n"
          ]
        }
      ]
    },
    {
      "cell_type": "code",
      "source": [
        "num_tokens = len(voc) + 2\n",
        "embedding_dim = 300\n",
        "hits = 0\n",
        "misses = 0\n",
        "\n",
        "# Prepare embedding matrix\n",
        "embedding_matrix = np.zeros((num_tokens, embedding_dim))\n",
        "for word, i in word_index.items():\n",
        "    embedding_vector = embeddings_index.get(word)\n",
        "    if embedding_vector is not None:\n",
        "        # Words not found in embedding index will be all-zeros.\n",
        "        # This includes the representation for \"padding\" and \"OOV\"\n",
        "        embedding_matrix[i] = embedding_vector\n",
        "        hits += 1\n",
        "    else:\n",
        "        misses += 1\n",
        "print(\"Converted %d words (%d misses)\" % (hits, misses))\n"
      ],
      "metadata": {
        "colab": {
          "base_uri": "https://localhost:8080/"
        },
        "id": "SN_L_FkslMiB",
        "outputId": "93829ffd-272e-4b20-9b7a-4d045f3740fa"
      },
      "execution_count": 21,
      "outputs": [
        {
          "output_type": "stream",
          "name": "stdout",
          "text": [
            "Converted 16302 words (3698 misses)\n"
          ]
        }
      ]
    },
    {
      "cell_type": "code",
      "source": [
        "embedding_layer = Embedding(\n",
        "    num_tokens,\n",
        "    embedding_dim,\n",
        "    trainable=False,\n",
        ")\n",
        "embedding_layer.build((1,))\n",
        "embedding_layer.set_weights([embedding_matrix])\n",
        "\n",
        "## Arch#1\n",
        "int_sequences_input = keras.Input(shape=(None,), dtype=\"int32\")\n",
        "embedded_sequences = embedding_layer(int_sequences_input)\n",
        "x = keras.layers.Dropout(0.5)(embedded_sequences)\n",
        "x = keras.layers.Conv1D(128, 5, activation=\"relu\")(x)\n",
        "x = keras.layers.MaxPooling1D(5)(x)\n",
        "x = keras.layers.Conv1D(128, 5, activation=\"relu\")(x)\n",
        "x = keras.layers.MaxPooling1D(5)(x)\n",
        "x = keras.layers.Conv1D(128, 5, activation=\"relu\")(x)\n",
        "x = keras.layers.GlobalMaxPooling1D()(x)\n",
        "x = keras.layers.Dense(128, activation=\"relu\")(x)\n",
        "x = keras.layers.Dropout(0.5)(x)\n",
        "preds = keras.layers.Dense(data_df.target.nunique()-1, activation=\"sigmoid\")(x)\n",
        "model = keras.Model(int_sequences_input, preds)\n",
        "model.summary()\n",
        "\n",
        "## Arch#2\n",
        "# vocab_size = 1000\n",
        "# maxlen = 1000\n",
        "# batch_size = 128\n",
        "# embedding_dims = 300\n",
        "# filters = 16\n",
        "# kernel_size = 3\n",
        "# hidden_dims = 250\n",
        "# epochs = 30\n",
        "\n",
        "# model = keras.models.Sequential()\n",
        "# model.add(keras.Input(shape=(None,), dtype=\"int32\"))\n",
        "# model.add(embedding_layer)\n",
        "# model.add(Dropout (0.5))\n",
        "# # model.add(Conv1D (filters, padding='valid',kernel_size,activation= 'relu'))\n",
        "# model.add(Conv1D(filters, kernel_size, activation='relu', padding='valid'))\n",
        "# model.add(MaxPooling1D())\n",
        "# # model.add(Conv1D (filters,padding='valid',kernel_size,activation='relu'))\n",
        "# model.add(Conv1D(filters, kernel_size, activation='relu', padding='valid'))\n",
        "# # model.add(MaxPooling1D())\n",
        "# model.add(keras.layers.GlobalMaxPooling1D())\n",
        "\n",
        "# model.add(Dense (250, activation='relu'))\n",
        "# model.add(Dropout(0.5))\n",
        "# model.add(Dense (1, activation='sigmoid'))\n",
        "# model.summary()"
      ],
      "metadata": {
        "colab": {
          "base_uri": "https://localhost:8080/"
        },
        "id": "psgx0AR1l6q9",
        "outputId": "d24af019-a06d-4122-9fbe-73c8dd0e4e44"
      },
      "execution_count": 36,
      "outputs": [
        {
          "output_type": "stream",
          "name": "stdout",
          "text": [
            "Model: \"model_1\"\n",
            "_________________________________________________________________\n",
            " Layer (type)                Output Shape              Param #   \n",
            "=================================================================\n",
            " input_7 (InputLayer)        [(None, None)]            0         \n",
            "                                                                 \n",
            " embedding_7 (Embedding)     (None, None, 300)         6000600   \n",
            "                                                                 \n",
            " dropout_6 (Dropout)         (None, None, 300)         0         \n",
            "                                                                 \n",
            " conv1d_9 (Conv1D)           (None, None, 128)         192128    \n",
            "                                                                 \n",
            " max_pooling1d_7 (MaxPoolin  (None, None, 128)         0         \n",
            " g1D)                                                            \n",
            "                                                                 \n",
            " conv1d_10 (Conv1D)          (None, None, 128)         82048     \n",
            "                                                                 \n",
            " max_pooling1d_8 (MaxPoolin  (None, None, 128)         0         \n",
            " g1D)                                                            \n",
            "                                                                 \n",
            " conv1d_11 (Conv1D)          (None, None, 128)         82048     \n",
            "                                                                 \n",
            " global_max_pooling1d_2 (Gl  (None, 128)               0         \n",
            " obalMaxPooling1D)                                               \n",
            "                                                                 \n",
            " dense_6 (Dense)             (None, 128)               16512     \n",
            "                                                                 \n",
            " dropout_7 (Dropout)         (None, 128)               0         \n",
            "                                                                 \n",
            " dense_7 (Dense)             (None, 1)                 129       \n",
            "                                                                 \n",
            "=================================================================\n",
            "Total params: 6373465 (24.31 MB)\n",
            "Trainable params: 372865 (1.42 MB)\n",
            "Non-trainable params: 6000600 (22.89 MB)\n",
            "_________________________________________________________________\n"
          ]
        }
      ]
    },
    {
      "cell_type": "code",
      "source": [
        "early_stopping = EarlyStopping(monitor='val_loss', patience=3)\n",
        "\n",
        "model.compile(\n",
        "    loss=\"binary_crossentropy\",\n",
        "    optimizer=\"rmsprop\", # adam\n",
        "    metrics=[\"acc\", F1Score()]\n",
        ")"
      ],
      "metadata": {
        "id": "KeTUFMsLn21O"
      },
      "execution_count": 37,
      "outputs": []
    },
    {
      "cell_type": "code",
      "source": [
        "history = model.fit(\n",
        "    X_train,\n",
        "    y_train,\n",
        "    batch_size=128, #64\n",
        "    epochs=32, #16\n",
        "    validation_split=0.2,\n",
        "    callbacks=[early_stopping]\n",
        ")\n"
      ],
      "metadata": {
        "colab": {
          "base_uri": "https://localhost:8080/"
        },
        "id": "Z4A-vGW2odea",
        "outputId": "db617de1-c871-4c96-88bd-9d059bd83167"
      },
      "execution_count": null,
      "outputs": [
        {
          "output_type": "stream",
          "name": "stdout",
          "text": [
            "Epoch 1/32\n",
            "8000/8000 [==============================] - 108s 13ms/step - loss: 0.5024 - acc: 0.7543 - f1_score: 0.6662 - val_loss: 0.4443 - val_acc: 0.7927 - val_f1_score: 0.6666\n",
            "Epoch 2/32\n",
            "8000/8000 [==============================] - 100s 13ms/step - loss: 0.4665 - acc: 0.7799 - f1_score: 0.6662 - val_loss: 0.4326 - val_acc: 0.8007 - val_f1_score: 0.6666\n",
            "Epoch 3/32\n",
            "7133/8000 [=========================>....] - ETA: 9s - loss: 0.4584 - acc: 0.7856 - f1_score: 0.6665"
          ]
        }
      ]
    },
    {
      "cell_type": "code",
      "source": [
        "model.evaluate(X_test, y_test)"
      ],
      "metadata": {
        "id": "G2xc_5SAoxuh"
      },
      "execution_count": null,
      "outputs": []
    },
    {
      "cell_type": "code",
      "source": [
        "y_pred = model.predict(X_test)"
      ],
      "metadata": {
        "id": "KrcYxb09uXBK"
      },
      "execution_count": null,
      "outputs": []
    },
    {
      "cell_type": "code",
      "source": [
        "y_pred_ = np.where(y_pred > 0.5 , 1, 0)\n",
        "\n",
        "conf_mat = confusion_matrix(y_test, y_pred_)\n",
        "conf_mat = conf_mat.astype(np.float64) / np.sum(conf_mat, axis=1)[:, np.newaxis]\n",
        "\n",
        "sns.heatmap(\n",
        "    conf_mat,\n",
        "    annot=True,\n",
        "    fmt='.2%',\n",
        "    xticklabels = labels,\n",
        "    yticklabels = labels,\n",
        "    cmap='Blues')\n",
        "plt.title('Test Predictions Confusion Matrix')\n",
        "plt.show()"
      ],
      "metadata": {
        "id": "nTL8sAI3zTRn"
      },
      "execution_count": null,
      "outputs": []
    },
    {
      "cell_type": "code",
      "source": [
        "acc = history.history['acc']\n",
        "val_acc = history.history['val_acc']\n",
        "f1 = history.history['f1_score']\n",
        "val_f1 = history.history['val_f1_score']\n",
        "loss = history.history['loss']\n",
        "val_loss = history.history['val_loss']\n",
        "\n",
        "\n",
        "# Set up the figure\n",
        "plt.figure(figsize=(12, 6))\n",
        "\n",
        "# Plot training and validation accuracy\n",
        "plt.subplot(1, 3, 1)\n",
        "plt.plot(range(1, len(acc) + 1), acc, label='Training Accuracy')\n",
        "plt.plot(range(1, len(val_acc) + 1), val_acc, label='Validation Accuracy')\n",
        "plt.title('Training and Validation Accuracy')\n",
        "plt.xlabel('Epochs')\n",
        "plt.ylabel('Accuracy')\n",
        "plt.legend()\n",
        "\n",
        "# Plot training and validation f1_score\n",
        "plt.subplot(1, 3, 2)\n",
        "plt.plot(range(1, len(f1) + 1), f1, label='Training F1_score')\n",
        "plt.plot(range(1, len(val_f1) + 1), val_f1, label='Validation F1_score')\n",
        "plt.title('Training and Validation Accuracy')\n",
        "plt.xlabel('Epochs')\n",
        "plt.ylabel('F1_score')\n",
        "plt.legend()\n",
        "\n",
        "# Plot training and validation loss\n",
        "plt.subplot(1, 3, 3)\n",
        "plt.plot(range(1, len(loss) + 1), loss, label='Training Loss')\n",
        "plt.plot(range(1, len(val_loss) + 1), val_loss, label='Validation Loss')\n",
        "plt.title('Training and Validation Loss')\n",
        "plt.xlabel('Epochs')\n",
        "plt.ylabel('Loss')\n",
        "plt.legend()\n",
        "\n",
        "# Customize the style using Seaborn\n",
        "sns.set(style='whitegrid')  # You can choose other styles as well\n",
        "\n",
        "# Show the plots\n",
        "plt.tight_layout()\n",
        "plt.show()\n"
      ],
      "metadata": {
        "id": "sET4xAs_wIVn"
      },
      "execution_count": null,
      "outputs": []
    },
    {
      "cell_type": "code",
      "source": [],
      "metadata": {
        "id": "bJ-jOT_VyzyW"
      },
      "execution_count": null,
      "outputs": []
    }
  ]
}